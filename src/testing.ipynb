{
 "cells": [
  {
   "cell_type": "code",
   "execution_count": 1,
   "metadata": {},
   "outputs": [],
   "source": [
    "import pickle\n",
    "import numpy as np\n",
    "import itertools\n",
    "from matplotlib import pyplot as plt\n",
    "\n",
    "import sys\n",
    "#path_to_codebase = '/mnt/Study/umass/sem3/maxEnt/src/codebase/'\n",
    "path_to_codebase = './codebase/'\n",
    "sys.path.insert(0, path_to_codebase)\n",
    "from codebase.utils import load_disease_data\n",
    "from codebase.extract_features import ExtractFeatures\n",
    "from codebase.optimizer import Optimizer\n"
   ]
  },
  {
   "cell_type": "code",
   "execution_count": 2,
   "metadata": {},
   "outputs": [],
   "source": [
    "obj1f = '../out/pickles/obj_red_mba_fillNA.pk'\n",
    "with open(obj1f, 'rb') as of1:\n",
    "    optobj = pickle.load(of1)\n",
    "    solopt = pickle.load(of1)"
   ]
  },
  {
   "cell_type": "code",
   "execution_count": 3,
   "metadata": {},
   "outputs": [],
   "source": [
    "obj_file = '../out/pickles/obj_red_mba.pk'\n",
    "with open(obj_file, 'rb') as ofile:\n",
    "    featobj1 = pickle.load(ofile)\n",
    "    optobj1 = pickle.load(ofile)\n",
    "    solopt1 = pickle.load(ofile)"
   ]
  },
  {
   "cell_type": "code",
   "execution_count": 4,
   "metadata": {},
   "outputs": [
    {
     "name": "stdout",
     "output_type": "stream",
     "text": [
      "[-10.42951701004439]\n",
      "[-10.02403712815968]\n",
      "[-4.838159841775679]\n",
      "[-4.28625253 -4.11309536 -3.85165339 -4.14317337 -3.77791183 -3.98728892\n",
      " -3.35531745 -5.44290636 -5.02083616 -4.02506058 -4.87524806 -4.58353127\n",
      " -3.54131297 -3.46094673 -4.26340308  1.38454472  2.8699368   1.43021511\n",
      "  2.28567615  3.21589774  0.70103747  1.87686461  0.9760629   0.75912796\n",
      "  2.20023983  1.41818161  2.0682994   1.11654243  1.48312033  1.87598469\n",
      "  1.4417148   0.2271023   0.77653704  1.29384824  0.91866381  1.423273\n",
      "  2.06395804  2.11519042 -1.41504662 -1.09715426  0.41933468 -0.88210088\n",
      "  4.41898059  0.42599233 -0.69356795 -0.89866245 -0.06010248 -0.79796062\n",
      "  0.07975043  1.54988692  0.14934552 -0.86898263 -0.02867707 -0.94249605\n",
      "  0.31534105  0.00783835 -0.1346633  -0.35347186 -0.11054583 -0.03236675\n",
      " -0.53263211 -1.11262205  0.74749183 -0.04211486 -0.40692872 -2.31196688\n",
      "  0.91381707 -0.2643467  -0.1840477 ]\n",
      "[-7.20993179758437]\n",
      "[-5.816414992558676]\n",
      "[-6.002229747145664]\n",
      "[-4.6870334907829685]\n",
      "[-4.3950475539722165]\n",
      "[-4.2393654832557415]\n",
      "[-5.739585443298822]\n",
      "[-7.384403450946541]\n",
      "[-5.5581636707131]\n",
      "[-6.467180993760405]\n",
      "[-4.834377711196094]\n",
      "[-8.349868615628191]\n",
      "[-8.077861013796495]\n",
      "[-2.6954191800415574]\n",
      "[-3.809111803826478]\n",
      "[-4.1106636697426895]\n",
      "[-3.5962124300031744]\n",
      "[-3.431702185591607]\n",
      "[-3.944220669816402]\n",
      "[-4.048356240111911]\n",
      "\n",
      "\n",
      "[-9.937816512859719]\n",
      "[-9.532327248119953]\n",
      "[-4.341434681048081]\n",
      "[-3.76364881 -3.48710335 -3.26207787 -3.57612445 -3.14057271 -3.40558486\n",
      " -2.65093866 -4.92357763 -4.45693215 -3.45588088 -4.35615295 -4.02087756\n",
      " -2.90423153 -2.82862513 -3.73884506  0.81722021  2.29747656  1.04889436\n",
      "  1.68067102  2.69760602  0.30935489  1.41495063  0.4023018   0.34856076\n",
      "  1.58963647  0.87429404  1.50168973  0.54533274  0.98328009  1.31357544\n",
      "  0.83262046 -0.0512255   0.23488537  0.88267778  0.32930005  1.22884389\n",
      "  1.53893781  1.59577735 -0.93080511 -0.44976359  0.19375603 -0.2389775\n",
      "  3.82599003  0.42564593 -0.08038383 -0.69424159 -0.06032049 -0.30246081\n",
      "  0.07966898  1.02865289  0.14671267 -0.58096538 -0.07127666 -0.37240069\n",
      "  0.31423508 -0.13706154 -0.13870398 -0.35486007 -0.05609309 -0.08305147\n",
      " -0.27757085 -0.53044628 -0.75000644  0.0776561  -0.05268863 -0.34533385\n",
      " -1.66709728  0.95989792  0.20458992  0.02334138  0.58190869 -0.17691572]\n",
      "[-6.717780510934403]\n",
      "[-5.322840082410939]\n",
      "[-5.508976120475391]\n",
      "[-4.1894831081945245]\n",
      "[-3.8954993600265935]\n",
      "[-3.738486035740673]\n",
      "[-5.245859193127632]\n",
      "[-6.8923273544191055]\n",
      "[-5.064030224652436]\n",
      "[-5.974512139787302]\n",
      "[-4.337633390990035]\n",
      "[-7.8580367252235295]\n",
      "[-7.585982179880266]\n",
      "[-2.1599153999933036]\n",
      "[-3.3032520343959115]\n",
      "[-3.6085142738167715]\n",
      "[-3.086959066039493]\n",
      "[-2.919273936229805]\n",
      "[-3.4401638454852104]\n",
      "[-3.54553012005129]\n"
     ]
    }
   ],
   "source": [
    "for i in range(len(solopt[0])):\n",
    "    print solopt[0][i][0]\n",
    "\n",
    "print('\\n')\n",
    "    \n",
    "for i in range(len(solopt1[0])):\n",
    "    print solopt1[0][i][0]\n",
    "    "
   ]
  },
  {
   "cell_type": "code",
   "execution_count": null,
   "metadata": {},
   "outputs": [],
   "source": []
  },
  {
   "cell_type": "code",
   "execution_count": 5,
   "metadata": {},
   "outputs": [
    {
     "name": "stdout",
     "output_type": "stream",
     "text": [
      "69 72\n"
     ]
    }
   ],
   "source": [
    "print len(solopt[0][3][0]), len(solopt1[0][3][0])"
   ]
  },
  {
   "cell_type": "code",
   "execution_count": null,
   "metadata": {},
   "outputs": [],
   "source": []
  },
  {
   "cell_type": "code",
   "execution_count": null,
   "metadata": {},
   "outputs": [],
   "source": []
  },
  {
   "cell_type": "code",
   "execution_count": 6,
   "metadata": {},
   "outputs": [
    {
     "name": "stdout",
     "output_type": "stream",
     "text": [
      "1.0000295473348304 1.0000483126796629 1.8765344832472053e-05\n",
      "1.000044321657039 1.0000724707701227 2.8149113083797417e-05\n",
      "1.0079216176777153 1.0130178383536839 0.005096220675968599\n",
      "1.4091827124498129 1.8223730136376277 0.41319030118781486\n",
      "1.0007392075694854 1.001209219086314 0.00047001151682857234\n",
      "1.0029782631243611 1.0048788776154183 0.001900614491057162\n",
      "1.0024732313433942 1.0040502522312766 0.0015770208878824743\n",
      "1.0092139790076335 1.0151541158873005 0.005940136879666991\n",
      "1.0123382935766096 1.020333218317149 0.007994924740539311\n",
      "1.0144167366023258 1.0237900932314465 0.009373356629120755\n",
      "1.003216101255317 1.005269292409305 0.0020531911539880543\n",
      "1.0006208609271523 1.0010155475493872 0.0003946866222348522\n",
      "1.0038558505116417 1.0063200369479084 0.0024641864362666688\n",
      "1.0015535991714137 1.002542742287015 0.0009891431156012764\n",
      "1.0079516349991064 1.0130674171051022 0.005115782105995725\n",
      "1.0002364275792772 1.0003866321919628 0.00015020461268555607\n",
      "1.0003103341264095 1.0005075160713424 0.00019718194493290042\n",
      "1.0675140752889969 1.1153348779567864 0.04782080266778954\n",
      "1.02216785962369 1.0367634168941424 0.014595557270452364\n",
      "1.0163968887954593 1.0270920683752203 0.01069517957976096\n",
      "1.0274274091950883 1.0456405334410992 0.018213124246010848\n",
      "1.0323318590818973 1.0539728608162122 0.021641001734314935\n",
      "1.0193663032347449 1.0320594321043053 0.012693128869560422\n",
      "1.0174510363901457 1.028853322729758 0.011402286339612377\n"
     ]
    }
   ],
   "source": [
    "# normalization constants\n",
    "for i in range(len(solopt[1])):\n",
    "    diff = np.abs(solopt[1][i] - solopt1[1][i]) \n",
    "    print solopt[1][i], solopt1[1][i], diff "
   ]
  },
  {
   "cell_type": "code",
   "execution_count": null,
   "metadata": {},
   "outputs": [],
   "source": []
  },
  {
   "cell_type": "code",
   "execution_count": 7,
   "metadata": {},
   "outputs": [
    {
     "data": {
      "text/plain": [
       "[[0],\n",
       " [1],\n",
       " [2],\n",
       " [3, 8, 32, 35, 4, 37, 13, 14, 15, 23, 28, 29, 30, 31, 36],\n",
       " [5],\n",
       " [6],\n",
       " [7],\n",
       " [9],\n",
       " [10],\n",
       " [11],\n",
       " [12],\n",
       " [16],\n",
       " [17],\n",
       " [18],\n",
       " [19],\n",
       " [20],\n",
       " [21],\n",
       " [22],\n",
       " [24],\n",
       " [25],\n",
       " [26],\n",
       " [27],\n",
       " [33],\n",
       " [34]]"
      ]
     },
     "execution_count": 7,
     "metadata": {},
     "output_type": "execute_result"
    }
   ],
   "source": [
    "optobj.feats_obj.feat_partitions"
   ]
  },
  {
   "cell_type": "code",
   "execution_count": 8,
   "metadata": {
    "scrolled": false
   },
   "outputs": [
    {
     "data": {
      "text/plain": [
       "[[0],\n",
       " [1],\n",
       " [2],\n",
       " [3, 8, 32, 35, 4, 37, 13, 14, 15, 23, 28, 29, 30, 31, 36],\n",
       " [5],\n",
       " [6],\n",
       " [7],\n",
       " [9],\n",
       " [10],\n",
       " [11],\n",
       " [12],\n",
       " [16],\n",
       " [17],\n",
       " [18],\n",
       " [19],\n",
       " [20],\n",
       " [21],\n",
       " [22],\n",
       " [24],\n",
       " [25],\n",
       " [26],\n",
       " [27],\n",
       " [33],\n",
       " [34]]"
      ]
     },
     "execution_count": 8,
     "metadata": {},
     "output_type": "execute_result"
    }
   ],
   "source": [
    "optobj1.feats_obj.feat_partitions"
   ]
  },
  {
   "cell_type": "code",
   "execution_count": 9,
   "metadata": {},
   "outputs": [
    {
     "name": "stdout",
     "output_type": "stream",
     "text": [
      "24 24\n"
     ]
    }
   ],
   "source": [
    "t = solopt[0]\n",
    "print len(t), len(optobj.feats_obj.feat_partitions)"
   ]
  },
  {
   "cell_type": "code",
   "execution_count": null,
   "metadata": {},
   "outputs": [],
   "source": []
  },
  {
   "cell_type": "code",
   "execution_count": 10,
   "metadata": {},
   "outputs": [],
   "source": [
    "def prob_dist(optobj, rvec):\n",
    "    \"\"\"\n",
    "    Function to compute the probability for a given input vector\n",
    "    \"\"\"\n",
    "    logp_sum = 0.0\n",
    "    prob_product = 1.0\n",
    "    parts = optobj.feats_obj.feat_partitions\n",
    "    solution = optobj.opt_sol\n",
    "    norm_sol = optobj.norm_z\n",
    "\n",
    "    # `partition` will be a set of indices in the i-th parition        \n",
    "    for i,partition in enumerate(parts):\n",
    "        tmpvec = rvec[partition]\n",
    "        term_exp = optobj.compute_constraint_sum(solution[i][0], tmpvec, partition)\n",
    "        prob_part = (1.0/norm_sol[i]) * np.exp(term_exp)\n",
    "        prob_product *= prob_part\n",
    "        logp_sum += np.log(prob_part)\n",
    "\n",
    "#     return prob_product\n",
    "#     return logp_sum\n",
    "    return np.exp(logp_sum)"
   ]
  },
  {
   "cell_type": "code",
   "execution_count": 11,
   "metadata": {},
   "outputs": [
    {
     "data": {
      "text/plain": [
       "38"
      ]
     },
     "execution_count": 11,
     "metadata": {},
     "output_type": "execute_result"
    }
   ],
   "source": [
    "optobj.feats_obj.data_arr.shape[1]"
   ]
  },
  {
   "cell_type": "code",
   "execution_count": 12,
   "metadata": {},
   "outputs": [
    {
     "name": "stdout",
     "output_type": "stream",
     "text": [
      "0.16400855600421596 0.028142573190359694\n"
     ]
    }
   ],
   "source": [
    "x1 = np.zeros(38)\n",
    "idx = [4,8,13,31]\n",
    "x1[idx] = 1\n",
    "print prob_dist(optobj, x1), prob_dist(optobj1, x1)"
   ]
  },
  {
   "cell_type": "code",
   "execution_count": 24,
   "metadata": {},
   "outputs": [],
   "source": [
    "def compute_emp_prob(data, vec):\n",
    "    count = 0.0\n",
    "    for tmp in data:\n",
    "        if sum(tmp == vec) == len(vec):\n",
    "            count += 1\n",
    "    count /= data.shape[0]\n",
    "    return count\n",
    "            "
   ]
  },
  {
   "cell_type": "code",
   "execution_count": 12,
   "metadata": {},
   "outputs": [],
   "source": [
    "def constraint_counts(optobj):\n",
    "    for k in optobj.feats_obj.two_way_dict.keys():\n",
    "        "
   ]
  },
  {
   "cell_type": "code",
   "execution_count": null,
   "metadata": {},
   "outputs": [],
   "source": []
  },
  {
   "cell_type": "code",
   "execution_count": 13,
   "metadata": {},
   "outputs": [],
   "source": [
    "def iter_nCk_binvect(n, k):\n",
    "    for bits in itertools.combinations(range(n), k):\n",
    "        tmp = np.zeros(n)\n",
    "#         print bits\n",
    "        tmp[list(bits)] = 1\n",
    "        yield tmp"
   ]
  },
  {
   "cell_type": "code",
   "execution_count": 15,
   "metadata": {},
   "outputs": [],
   "source": [
    "def compute_prob_exact(optobj, k):\n",
    "    probsum = 0\n",
    "    maxi, v = 0, None\n",
    "    numfeat = optobj.feats_obj.data_arr.shape[1]\n",
    "    for vec in iter_nCk_binvect(numfeat, k):\n",
    "        tmp = prob_dist(optobj, vec)\n",
    "        probsum += tmp\n",
    "        if tmp >= maxi:\n",
    "            maxi = tmp\n",
    "            v = vec\n",
    "    print(maxi, v)\n",
    "    return probsum"
   ]
  },
  {
   "cell_type": "code",
   "execution_count": 18,
   "metadata": {},
   "outputs": [
    {
     "name": "stdout",
     "output_type": "stream",
     "text": [
      "(0.11553391666410365, array([0., 0., 0., 0., 0., 0., 0., 0., 1., 0., 0., 0., 0., 1., 0., 0., 0.,\n",
      "       0., 0., 0., 0., 0., 0., 0., 0., 0., 0., 0., 0., 0., 1., 1., 1., 0.,\n",
      "       0., 0., 0., 0.]))\n"
     ]
    },
    {
     "data": {
      "text/plain": [
       "0.6629886331225583"
      ]
     },
     "execution_count": 18,
     "metadata": {},
     "output_type": "execute_result"
    }
   ],
   "source": [
    "# compute_prob_exact(optobj, 4)\n",
    "compute_prob_exact(optobj, 5)"
   ]
  },
  {
   "cell_type": "code",
   "execution_count": 19,
   "metadata": {},
   "outputs": [
    {
     "name": "stdout",
     "output_type": "stream",
     "text": [
      "(0.10523628291656087, array([0., 0., 0., 0., 1., 0., 0., 0., 1., 0., 0., 0., 0., 1., 0., 0., 0.,\n",
      "       0., 0., 0., 0., 0., 0., 0., 0., 0., 0., 0., 0., 0., 1., 1., 1., 0.,\n",
      "       0., 0., 0., 0.]))\n"
     ]
    },
    {
     "data": {
      "text/plain": [
       "0.5805951043629636"
      ]
     },
     "execution_count": 19,
     "metadata": {},
     "output_type": "execute_result"
    }
   ],
   "source": [
    "compute_prob_exact(optobj, 6)"
   ]
  },
  {
   "cell_type": "code",
   "execution_count": 25,
   "metadata": {},
   "outputs": [
    {
     "name": "stdout",
     "output_type": "stream",
     "text": [
      "0.10523628291656087\n",
      "0.0\n"
     ]
    }
   ],
   "source": [
    "v6max = np.array([0., 0., 0., 0., 1., 0., 0., 0., 1., 0., 0., 0., 0., 1., 0., 0., 0.,\n",
    "       0., 0., 0., 0., 0., 0., 0., 0., 0., 0., 0., 0., 0., 1., 1., 1., 0.,\n",
    "       0., 0., 0., 0.])\n",
    "print prob_dist(optobj, v6max)\n",
    "datarr = optobj.feats_obj.data_arr\n",
    "print compute_emp_prob(datarr, v6max)"
   ]
  },
  {
   "cell_type": "code",
   "execution_count": 26,
   "metadata": {},
   "outputs": [
    {
     "name": "stdout",
     "output_type": "stream",
     "text": [
      "0.543629684279562\n",
      "0.609233269316\n"
     ]
    }
   ],
   "source": [
    "v0 = np.zeros(38)\n",
    "print prob_dist(optobj, v0)\n",
    "datarr = optobj.feats_obj.data_arr\n",
    "print compute_emp_prob(datarr, v0)"
   ]
  },
  {
   "cell_type": "code",
   "execution_count": 105,
   "metadata": {},
   "outputs": [
    {
     "name": "stdout",
     "output_type": "stream",
     "text": [
      "0.028142573190359694\n"
     ]
    },
    {
     "data": {
      "text/plain": [
       "0.14926281918497553"
      ]
     },
     "execution_count": 105,
     "metadata": {},
     "output_type": "execute_result"
    }
   ],
   "source": [
    "compute_prob_exact(optobj1, 4)"
   ]
  },
  {
   "cell_type": "code",
   "execution_count": 43,
   "metadata": {},
   "outputs": [],
   "source": [
    "low = 1\n",
    "hgh = 5\n",
    "\n",
    "ans = np.zeros(hgh+1)\n",
    "\n",
    "for i in range(low, hgh+1):\n",
    "    ans[i] = compute_prob_exact(optobj, i)"
   ]
  },
  {
   "cell_type": "code",
   "execution_count": 62,
   "metadata": {},
   "outputs": [
    {
     "ename": "NameError",
     "evalue": "name 'ans' is not defined",
     "output_type": "error",
     "traceback": [
      "\u001b[0;31m---------------------------------------------------------------------------\u001b[0m",
      "\u001b[0;31mNameError\u001b[0m                                 Traceback (most recent call last)",
      "\u001b[0;32m<ipython-input-62-6faa514c4f50>\u001b[0m in \u001b[0;36m<module>\u001b[0;34m()\u001b[0m\n\u001b[0;32m----> 1\u001b[0;31m \u001b[0mans\u001b[0m\u001b[0;34m[\u001b[0m\u001b[0;36m0\u001b[0m\u001b[0;34m]\u001b[0m \u001b[0;34m=\u001b[0m \u001b[0moptobj\u001b[0m\u001b[0;34m.\u001b[0m\u001b[0mprob_dist\u001b[0m\u001b[0;34m(\u001b[0m\u001b[0mnp\u001b[0m\u001b[0;34m.\u001b[0m\u001b[0mzeros\u001b[0m\u001b[0;34m(\u001b[0m\u001b[0;36m38\u001b[0m\u001b[0;34m)\u001b[0m\u001b[0;34m)\u001b[0m\u001b[0;34m\u001b[0m\u001b[0m\n\u001b[0m\u001b[1;32m      2\u001b[0m \u001b[0mans\u001b[0m\u001b[0;34m\u001b[0m\u001b[0m\n",
      "\u001b[0;31mNameError\u001b[0m: name 'ans' is not defined"
     ]
    }
   ],
   "source": [
    "ans[0] = optobj.prob_dist(np.zeros(38))\n",
    "ans"
   ]
  },
  {
   "cell_type": "code",
   "execution_count": 16,
   "metadata": {},
   "outputs": [
    {
     "data": {
      "text/plain": [
       "array([0.54362968, 0.2909475 , 0.10353954, 0.11417444, 0.39635492,\n",
       "       0.66298863])"
      ]
     },
     "execution_count": 16,
     "metadata": {},
     "output_type": "execute_result"
    }
   ],
   "source": [
    "low = 1\n",
    "hgh = 5\n",
    "\n",
    "ans2 = np.zeros(hgh+1)\n",
    "\n",
    "for i in range(low, hgh+1):\n",
    "    ans2[i] = compute_prob_exact(optobj, i)\n",
    "\n",
    "ans2[0] = optobj.prob_dist(np.zeros(38))\n",
    "ans2"
   ]
  },
  {
   "cell_type": "code",
   "execution_count": 58,
   "metadata": {},
   "outputs": [
    {
     "data": {
      "text/plain": [
       "[[0],\n",
       " [1],\n",
       " [2],\n",
       " [3, 8, 32, 35, 4, 37, 13, 14, 15, 23, 28, 29, 30, 31, 36],\n",
       " [5],\n",
       " [6],\n",
       " [7],\n",
       " [9],\n",
       " [10],\n",
       " [11],\n",
       " [12],\n",
       " [16],\n",
       " [17],\n",
       " [18],\n",
       " [19],\n",
       " [20],\n",
       " [21],\n",
       " [22],\n",
       " [24],\n",
       " [25],\n",
       " [26],\n",
       " [27],\n",
       " [33],\n",
       " [34]]"
      ]
     },
     "execution_count": 58,
     "metadata": {},
     "output_type": "execute_result"
    }
   ],
   "source": [
    "optobj.feats_obj.feat_partitions"
   ]
  },
  {
   "cell_type": "code",
   "execution_count": 116,
   "metadata": {},
   "outputs": [
    {
     "name": "stdout",
     "output_type": "stream",
     "text": [
      "[41239. 14635.  6011.  2975.  1549.]\n",
      "[2.24187445e+04 2.39689231e+02 6.76075423e+00 2.86210346e+00\n",
      " 2.94618623e+00]\n"
     ]
    }
   ],
   "source": [
    "data = optobj.feats_obj.data_arr\n",
    "N, _ = data.shape\n",
    "p = np.zeros(5)\n",
    "m = np.zeros(5)\n",
    "\n",
    "for i in range(N):\n",
    "    v = np.sum(data[i], dtype=int)\n",
    "    if v <= 4:\n",
    "        m[v] += 1\n",
    "        p[v] += optobj.prob_dist(data[i])\n",
    "\n",
    "print m\n",
    "print p\n",
    "# m = m/N\n",
    "# np.log(m/(1-m))"
   ]
  },
  {
   "cell_type": "code",
   "execution_count": 119,
   "metadata": {},
   "outputs": [
    {
     "name": "stdout",
     "output_type": "stream",
     "text": [
      "12\n"
     ]
    }
   ],
   "source": [
    "data = optobj.feats_obj.data_arr\n",
    "N, _ = data.shape\n",
    "x = np.zeros(38)\n",
    "idx = [4,8,13,31]\n",
    "x[idx] = 1\n",
    "\n",
    "c = 0\n",
    "for i in range(N):\n",
    "    v = data[i]\n",
    "    if sum(v==x) == 38:\n",
    "        c += 1\n",
    "print c\n",
    "# m = m/N\n",
    "# np.log(m/(1-m))"
   ]
  },
  {
   "cell_type": "code",
   "execution_count": 80,
   "metadata": {},
   "outputs": [
    {
     "data": {
      "text/plain": [
       "array([   2,    3,  532, 1024, 3388,   50,  201,  167, 3649,  618,  825,\n",
       "        962,  217, 5989,  484, 1133,   42,  260,  105,  534,   16,   21,\n",
       "       4281, 1409, 1468, 1092, 1807, 2120,  629, 1066, 3234, 2805, 1985,\n",
       "       1286, 1161, 1322, 1394, 1848])"
      ]
     },
     "execution_count": 80,
     "metadata": {},
     "output_type": "execute_result"
    }
   ],
   "source": [
    "np.sum(data, axis=0, dtype=int)"
   ]
  },
  {
   "cell_type": "code",
   "execution_count": 84,
   "metadata": {},
   "outputs": [
    {
     "data": {
      "text/plain": [
       "0.543629684279562"
      ]
     },
     "execution_count": 84,
     "metadata": {},
     "output_type": "execute_result"
    }
   ],
   "source": [
    "x = np.zeros(38)\n",
    "p = optobj.prob_dist(x)\n",
    "p\n"
   ]
  }
 ],
 "metadata": {
  "kernelspec": {
   "display_name": "Python 2",
   "language": "python",
   "name": "python2"
  },
  "language_info": {
   "codemirror_mode": {
    "name": "ipython",
    "version": 2
   },
   "file_extension": ".py",
   "mimetype": "text/x-python",
   "name": "python",
   "nbconvert_exporter": "python",
   "pygments_lexer": "ipython2",
   "version": "2.7.15"
  }
 },
 "nbformat": 4,
 "nbformat_minor": 2
}
