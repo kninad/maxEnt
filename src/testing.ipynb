{
 "cells": [
  {
   "cell_type": "code",
   "execution_count": 1,
   "metadata": {},
   "outputs": [],
   "source": [
    "import pickle\n",
    "import numpy as np\n",
    "import itertools\n",
    "from matplotlib import pyplot as plt\n",
    "\n",
    "import sys\n",
    "#path_to_codebase = '/mnt/Study/umass/sem3/maxEnt/src/codebase/'\n",
    "path_to_codebase = './codebase/'\n",
    "sys.path.insert(0, path_to_codebase)\n",
    "from codebase.utils import load_disease_data\n",
    "from codebase.extract_features import ExtractFeatures\n",
    "from codebase.optimizer import Optimizer\n"
   ]
  },
  {
   "cell_type": "code",
   "execution_count": 2,
   "metadata": {},
   "outputs": [],
   "source": [
    "obj1f = '../out/pickles/opt_obj_red_mba.pk'\n",
    "with open(obj1f, 'rb') as of1:\n",
    "    o1 = pickle.load(of1)\n",
    "    o2 = pickle.load(of1)"
   ]
  },
  {
   "cell_type": "code",
   "execution_count": 2,
   "metadata": {},
   "outputs": [],
   "source": [
    "# obj_file = '../out/pickles/obj_red_mba.pk'\n",
    "# with open(obj_file, 'rb') as ofile:\n",
    "#     featobj = pickle.load(ofile)\n",
    "#     optobj = pickle.load(ofile)\n",
    "#     solopt = pickle.load(ofile)\n",
    "\n",
    "obj_file = '../out/pickles/obj_red_mba.pk'\n",
    "with open(obj_file, 'rb') as ofile:\n",
    "    featobj = pickle.load(ofile)\n",
    "    optobj = pickle.load(ofile)\n",
    "    solopt = pickle.load(ofile)   \n",
    "    "
   ]
  },
  {
   "cell_type": "code",
   "execution_count": 3,
   "metadata": {},
   "outputs": [
    {
     "name": "stdout",
     "output_type": "stream",
     "text": [
      "[[[-9.937816512859719]], [[-9.532327248119953]], [[-4.341434681048081]], (array([-3.76364881, -3.48710335, -3.26207787, -3.57612445, -3.14057271,\n",
      "       -3.40558486, -2.65093866, -4.92357763, -4.45693215, -3.45588088,\n",
      "       -4.35615295, -4.02087756, -2.90423153, -2.82862513, -3.73884506,\n",
      "        0.81722021,  2.29747656,  1.04889436,  1.68067102,  2.69760602,\n",
      "        0.30935489,  1.41495063,  0.4023018 ,  0.34856076,  1.58963647,\n",
      "        0.87429404,  1.50168973,  0.54533274,  0.98328009,  1.31357544,\n",
      "        0.83262046, -0.0512255 ,  0.23488537,  0.88267778,  0.32930005,\n",
      "        1.22884389,  1.53893781,  1.59577735, -0.93080511, -0.44976359,\n",
      "        0.19375603, -0.2389775 ,  3.82599003,  0.42564593, -0.08038383,\n",
      "       -0.69424159, -0.06032049, -0.30246081,  0.07966898,  1.02865289,\n",
      "        0.14671267, -0.58096538, -0.07127666, -0.37240069,  0.31423508,\n",
      "       -0.13706154, -0.13870398, -0.35486007, -0.05609309, -0.08305147,\n",
      "       -0.27757085, -0.53044628, -0.75000644,  0.0776561 , -0.05268863,\n",
      "       -0.34533385, -1.66709728,  0.95989792,  0.20458992,  0.02334138,\n",
      "        0.58190869, -0.17691572]), 110218.04796208293, {'warnflag': 0, 'task': 'CONVERGENCE: REL_REDUCTION_OF_F_<=_FACTR*EPSMCH', 'grad': array([ 0.24738256,  0.11059456,  0.07421477, -0.04802132,  0.19208528,\n",
      "        0.08440111, -0.54133125, -0.05238689, -0.01164153,  0.37980499,\n",
      "        0.00582077, -0.14697434, -0.10622898, -0.47293724, -0.01455192,\n",
      "       -0.10477379, -0.06693881,  0.13387762, -0.04074536,  0.08440111,\n",
      "        0.04220055, -0.27066562,  0.05966285, -0.06548362, -0.27212081,\n",
      "        0.14260877, -0.09458745, -0.14551915, -0.22700988, -0.18480932,\n",
      "       -0.42346073,  0.14115358, -0.17025741,  0.03055902, -0.02764864,\n",
      "       -0.0509317 ,  0.02182787, -0.0174623 , -0.15716068, -0.00873115,\n",
      "       -0.01018634,  0.00291038, -0.17607817, -0.07858034, -0.16589183,\n",
      "        0.1193257 ,  0.06111804,  0.05966285,  0.05820766,  0.19499566,\n",
      "       -0.08731149, -0.00873115, -0.01455192, -0.14842954, -0.09022187,\n",
      "       -0.00145519, -0.205182  , -0.01455192,  0.00582077, -0.08731149,\n",
      "        0.        , -0.01600711, -0.00727596,  0.02619345, -0.08731149,\n",
      "        0.05820766, -0.10186341, -0.00727596, -0.08149073, -0.03783498,\n",
      "       -0.22992026, -0.01455192]), 'funcalls': 7738, 'nit': 100}), [[-6.717780510934403]], [[-5.322840082410939]], [[-5.508976120475391]], [[-4.1894831081945245]], [[-3.8954993600265935]], [[-3.738486035740673]], [[-5.245859193127632]], [[-6.8923273544191055]], [[-5.064030224652436]], [[-5.974512139787302]], [[-4.337633390990035]], [[-7.8580367252235295]], [[-7.585982179880266]], [[-2.1599153999933036]], [[-3.3032520343959115]], [[-3.6085142738167715]], [[-3.086959066039493]], [[-2.919273936229805]], [[-3.4401638454852104]], [[-3.54553012005129]]]\n"
     ]
    }
   ],
   "source": [
    "print solopt[0]"
   ]
  },
  {
   "cell_type": "code",
   "execution_count": 4,
   "metadata": {},
   "outputs": [
    {
     "name": "stdout",
     "output_type": "stream",
     "text": [
      "[1.0000483126796629, 1.0000724707701227, 1.0130178383536839, 1.8223730136376277, 1.001209219086314, 1.0048788776154183, 1.0040502522312766, 1.0151541158873005, 1.020333218317149, 1.0237900932314465, 1.005269292409305, 1.0010155475493872, 1.0063200369479084, 1.002542742287015, 1.0130674171051022, 1.0003866321919628, 1.0005075160713424, 1.1153348779567864, 1.0367634168941424, 1.0270920683752203, 1.0456405334410992, 1.0539728608162122, 1.0320594321043053, 1.028853322729758]\n"
     ]
    }
   ],
   "source": [
    "print solopt[1]"
   ]
  },
  {
   "cell_type": "code",
   "execution_count": 7,
   "metadata": {},
   "outputs": [
    {
     "data": {
      "text/plain": [
       "38"
      ]
     },
     "execution_count": 7,
     "metadata": {},
     "output_type": "execute_result"
    }
   ],
   "source": [
    "optobj.feats_obj.data_arr.shape[1]"
   ]
  },
  {
   "cell_type": "code",
   "execution_count": 8,
   "metadata": {},
   "outputs": [
    {
     "data": {
      "text/plain": [
       "(41399, 38)"
      ]
     },
     "execution_count": 8,
     "metadata": {},
     "output_type": "execute_result"
    }
   ],
   "source": [
    "d = optobj.feats_obj.data_arr\n",
    "d.shape"
   ]
  },
  {
   "cell_type": "code",
   "execution_count": 9,
   "metadata": {},
   "outputs": [
    {
     "data": {
      "text/plain": [
       "0.015287190265310177"
      ]
     },
     "execution_count": 9,
     "metadata": {},
     "output_type": "execute_result"
    }
   ],
   "source": [
    "x1 = np.zeros(38)\n",
    "x1[4] = 1\n",
    "optobj.prob_dist(x1)"
   ]
  },
  {
   "cell_type": "code",
   "execution_count": 10,
   "metadata": {},
   "outputs": [],
   "source": [
    "three_wayc = {}\n",
    "keys = [(4,8,13), (8,13,30), (4,13,30), (4,13,15), (4,8,30), (8,13,29), \n",
    "        (8,13,31), (8,13,32), (4,8,15), (8,13,37), (8,13,35), (13,30,31), \n",
    "        (13,15,14), (8,13,14), (8,13,23), (4,13,29), (3,8,13), (8,13,28),\n",
    "        (4,13,35)]\n",
    "\n",
    "common_val = (1,1,1)  # Since MBA only looks for (1,1,1) pairs\n",
    "for k in keys:\n",
    "    three_wayc[k] = common_val\n",
    "\n",
    "# Creating the 4-way constraint dict from MBA analysis\n",
    "four_wayc = {}\n",
    "keys = [(4,8,13,30), (4,8,13,15), (8,13,14,15), (4,8,13,31), (4,8,13,29), \n",
    "        (8,13,15,30), (4,8,13,23), (4,8,13,35), (4,8,13,32), (8,13,30,31), \n",
    "        (4,8,13,15), (4,13,14,15), (8,13,30,32), (8,13,15,23), (4,8,13,37)]\n",
    "\n",
    "common_val = (1,1,1,1)  # Since MBA only looks for (1,1,1) pairs\n",
    "for k in keys:\n",
    "    four_wayc[k] = common_val"
   ]
  },
  {
   "cell_type": "code",
   "execution_count": 11,
   "metadata": {},
   "outputs": [],
   "source": [
    "def compute_emp_prob(optobj):\n",
    "    data = optobj.feats_obj.data_arr\n",
    "    count_dict = {}\n",
    "    for xvec in data:\n",
    "        key = sum(xvec)\n",
    "        if key in count_dict:\n",
    "            count_dict[key] += 1.0\n",
    "        else:\n",
    "            count_dict[key] = 1.0\n",
    "    \n",
    "    N = data.shape[0]\n",
    "    prob_dict = {}\n",
    "    for k in count_dict:\n",
    "        prob_dict[k] = count_dict[k]/N\n",
    "    \n",
    "    return count_dict, prob_dict\n",
    "    \n",
    "    "
   ]
  },
  {
   "cell_type": "code",
   "execution_count": 12,
   "metadata": {},
   "outputs": [],
   "source": [
    "c,p = compute_emp_prob(optobj)"
   ]
  },
  {
   "cell_type": "code",
   "execution_count": 13,
   "metadata": {},
   "outputs": [
    {
     "data": {
      "text/plain": [
       "{0.0: 0.3610715234667504,\n",
       " 1.0: 0.35351095437087854,\n",
       " 2.0: 0.14519674388270248,\n",
       " 3.0: 0.07186163917002826,\n",
       " 4.0: 0.03741636271407522,\n",
       " 5.0: 0.017464189956279137,\n",
       " 6.0: 0.007777965651344235,\n",
       " 7.0: 0.0033575690234063623,\n",
       " 8.0: 0.0014734655426459577,\n",
       " 9.0: 0.000483103456605232,\n",
       " 10.0: 0.0003140172467934008,\n",
       " 11.0: 7.24655184907848e-05}"
      ]
     },
     "execution_count": 13,
     "metadata": {},
     "output_type": "execute_result"
    }
   ],
   "source": [
    "p"
   ]
  },
  {
   "cell_type": "code",
   "execution_count": 14,
   "metadata": {},
   "outputs": [
    {
     "data": {
      "text/plain": [
       "{0.0: 14948.0,\n",
       " 1.0: 14635.0,\n",
       " 2.0: 6011.0,\n",
       " 3.0: 2975.0,\n",
       " 4.0: 1549.0,\n",
       " 5.0: 723.0,\n",
       " 6.0: 322.0,\n",
       " 7.0: 139.0,\n",
       " 8.0: 61.0,\n",
       " 9.0: 20.0,\n",
       " 10.0: 13.0,\n",
       " 11.0: 3.0}"
      ]
     },
     "execution_count": 14,
     "metadata": {},
     "output_type": "execute_result"
    }
   ],
   "source": [
    "c"
   ]
  },
  {
   "cell_type": "code",
   "execution_count": 15,
   "metadata": {},
   "outputs": [],
   "source": [
    "def iter_nCk_binvect(n, k):\n",
    "    for bits in itertools.combinations(range(n), k):\n",
    "        tmp = np.zeros(n)\n",
    "#         print bits\n",
    "        tmp[list(bits)] = 1\n",
    "        yield tmp"
   ]
  },
  {
   "cell_type": "code",
   "execution_count": 16,
   "metadata": {},
   "outputs": [],
   "source": [
    "def compute_prob_exact(optobj, k):\n",
    "    probsum = 0\n",
    "    numfeat = optobj.feats_obj.data_arr.shape[1]\n",
    "    for vec in iter_nCk_binvect(numfeat, k):\n",
    "        probsum += optobj.prob_dist(vec)\n",
    "        \n",
    "    return probsum"
   ]
  },
  {
   "cell_type": "code",
   "execution_count": 17,
   "metadata": {},
   "outputs": [
    {
     "data": {
      "text/plain": [
       "0.12826274236812701"
      ]
     },
     "execution_count": 17,
     "metadata": {},
     "output_type": "execute_result"
    }
   ],
   "source": [
    "compute_prob_exact(optobj, 3)"
   ]
  },
  {
   "cell_type": "code",
   "execution_count": 43,
   "metadata": {},
   "outputs": [],
   "source": [
    "low = 1\n",
    "hgh = 5\n",
    "\n",
    "ans = np.zeros(hgh+1)\n",
    "\n",
    "for i in range(low, hgh+1):\n",
    "    ans[i] = compute_prob_exact(optobj, i)"
   ]
  },
  {
   "cell_type": "code",
   "execution_count": 47,
   "metadata": {},
   "outputs": [
    {
     "data": {
      "text/plain": [
       "array([0.35339554, 0.33125643, 0.18216974, 0.12826274, 0.14926282,\n",
       "       0.13601572])"
      ]
     },
     "execution_count": 47,
     "metadata": {},
     "output_type": "execute_result"
    }
   ],
   "source": [
    "ans[0] = optobj.prob_dist(np.zeros(38))\n",
    "ans"
   ]
  },
  {
   "cell_type": "code",
   "execution_count": null,
   "metadata": {},
   "outputs": [],
   "source": [
    "for "
   ]
  }
 ],
 "metadata": {
  "kernelspec": {
   "display_name": "Python 2",
   "language": "python",
   "name": "python2"
  },
  "language_info": {
   "codemirror_mode": {
    "name": "ipython",
    "version": 2
   },
   "file_extension": ".py",
   "mimetype": "text/x-python",
   "name": "python",
   "nbconvert_exporter": "python",
   "pygments_lexer": "ipython2",
   "version": "2.7.15"
  }
 },
 "nbformat": 4,
 "nbformat_minor": 2
}
