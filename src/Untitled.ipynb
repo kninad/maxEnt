{
 "cells": [
  {
   "cell_type": "code",
   "execution_count": 6,
   "metadata": {},
   "outputs": [],
   "source": [
    "import numpy as np\n",
    "import pickle\n",
    "import pandas as pd"
   ]
  },
  {
   "cell_type": "code",
   "execution_count": 8,
   "metadata": {},
   "outputs": [
    {
     "name": "stdout",
     "output_type": "stream",
     "text": [
      "Index([u'DUPERSID', u'PANEL', u'AGE1X', u'SEX', u'RACEAX', u'RACEBX',\n",
      "       u'RACEWX', u'RTHLTH1', u'RTHLTH2', u'RTHLTH3',\n",
      "       ...\n",
      "       u'perwt', u'netchange', u'sf0', u'ss0', u'sdif0', u'weight', u'age',\n",
      "       u'sdif38', u'sdif39', u'sdif40'],\n",
      "      dtype='object', length=942)\n",
      "('Total columns:', 942)\n"
     ]
    }
   ],
   "source": [
    "# Loading the big csv file (exported from the excel file)\n",
    "# All other pre-processing is done here\n",
    "# The \"cleaned\" csv files are then stored\n",
    "\n",
    "bigFilePath = '../data/2010-2014.csv'\n",
    "big_df = pd.read_csv(bigFilePath)\n",
    "col_list = big_df.columns\n",
    "print (col_list)\n",
    "print (\"Total columns:\",  len(col_list))"
   ]
  },
  {
   "cell_type": "code",
   "execution_count": 13,
   "metadata": {},
   "outputs": [
    {
     "data": {
      "text/plain": [
       "37"
      ]
     },
     "execution_count": 13,
     "metadata": {},
     "output_type": "execute_result"
    }
   ],
   "source": [
    "x = '12 30 47  48 49 50 51 52 53 86 91 95 96 98 100 101 103  104 105 106 \\\n",
    "    110 111 126 127 128 133 134 200 202 203 204 205 211 232 244 259 651'\n",
    "new_col_list = x.split()\n",
    "len(new_col_list)"
   ]
  },
  {
   "cell_type": "code",
   "execution_count": 17,
   "metadata": {},
   "outputs": [
    {
     "data": {
      "text/plain": [
       "'Extra CCC codes that were missing\\n232 Sprains and strains\\n244 Externally Caused Injuries and Conditions\\n'"
      ]
     },
     "execution_count": 17,
     "metadata": {},
     "output_type": "execute_result"
    }
   ],
   "source": [
    "\"\"\" CCC codes for diseases enumerated in the MBA anaylis. Taken from Appendix C of Schmitt-thesis\n",
    "12 Cancer of Esophagus\n",
    "30 Cancer of Testis\n",
    "47 Other and Unspecified Benign Neoplasm\n",
    "48 Thyroid Disorders\n",
    "49 Diabetes Mellitus\n",
    "50 Diabetes Mellitus with Complications\n",
    "51 Other Endocrine Disorders\n",
    "52 Nutritional Deficiencies\n",
    "53 Lipid Metabolism Disorder\n",
    "86 Cataract\n",
    "91 Other Eye Disorders\n",
    "95 Other Nervous System Disorders\n",
    "96 Heart Valve Disorders\n",
    "98 Essential Hypertension\n",
    "100 Acute Myocardial Infarction\n",
    "101 Coronary Atherosclerosis and Other Heart Disease\n",
    "103 Pulmonary Heart Disease\n",
    "104 Other and Ill-Defined Heart Disease\n",
    "105 Conduction Disorders\n",
    "106 Cardiac Dysrhythmias\n",
    "110 Occlusion or Stenosis of Prevertebral Arteries\n",
    "111 Other and Ill-Defined Cerebrovascular Disease\n",
    "126 Other Upper Respiratory Infections\n",
    "127 Chronic Obstructive Pulmonary Disease and Bronchiectasis\n",
    "128 Asthma\n",
    "133 Other Lower Respiratory Disease\n",
    "134 Other Upper Respiratory Disease\n",
    "200 Other Skin Disorders\n",
    "202 Rheumatoid Arthritis and Related Disease\n",
    "203 Osteoarthritis\n",
    "204 Non Traumatic Joint Disorders\n",
    "205 Spondylosis; Intervertebral Disc Disorders; Other Back Problems\n",
    "211 Other Connective Tissue Disorders\n",
    "259 Unclassified CCC\n",
    "651 Mood Disorder\n",
    "\"\"\"\n",
    "\n",
    "\"\"\"Extra CCC codes that were missing\n",
    "232 Sprains and strains\n",
    "244 Externally Caused Injuries and Conditions\n",
    "\"\"\"\n",
    "#"
   ]
  },
  {
   "cell_type": "code",
   "execution_count": 20,
   "metadata": {},
   "outputs": [],
   "source": [
    "disdict = { \n",
    "'CCCfy12': 'Cancer of Esophagus',\n",
    "'CCCfy30': 'Cancer of Testis',\n",
    "'CCCfy47': 'Other and Unspecified Benign Neoplasm',\n",
    "'CCCfy48': 'Thyroid Disorders',\n",
    "'CCCfy49': 'Diabetes Mellitus',\n",
    "'CCCfy50': 'Diabetes Mellitus with Complications',\n",
    "'CCCfy51': 'Other Endocrine Disorders',\n",
    "'CCCfy52': 'Nutritional Deficiencies',\n",
    "'CCCfy53': 'Lipid Metabolism Disorder',\n",
    "'CCCfy86': 'Cataract',\n",
    "'CCCfy91': 'Other Eye Disorders',\n",
    "'CCCfy95': 'Other Nervous System Disorders',\n",
    "'CCCfy96': 'Heart Valve Disorders',\n",
    "'CCCfy98': 'Essential Hypertension',\n",
    "'CCCfy100': 'Acute Myocardial Infarction',\n",
    "'CCCfy101': 'Coronary Atherosclerosis and Other Heart Disease',\n",
    "'CCCfy103': 'Pulmonary Heart Disease',\n",
    "'CCCfy104': 'Other and Ill-Defined Heart Disease',\n",
    "'CCCfy105': 'Conduction Disorders',\n",
    "'CCCfy106': 'Cardiac Dysrhythmias',\n",
    "'CCCfy110': 'Occlusion or Stenosis of Prevertebral Arteries',\n",
    "'CCCfy111': 'Other and Ill-Defined Cerebrovascular Disease',\n",
    "'CCCfy126': 'Other Upper Respiratory Infections',\n",
    "'CCCfy127': 'Chronic Obstructive Pulmonary Disease and Bronchiectasis',\n",
    "'CCCfy128': 'Asthma',\n",
    "'CCCfy133': 'Other Lower Respiratory Disease',\n",
    "'CCCfy134': 'Other Upper Respiratory Disease',\n",
    "'CCCfy200': 'Other Skin Disorders',\n",
    "'CCCfy202': 'Rheumatoid Arthritis and Related Disease',\n",
    "'CCCfy203': 'Osteoarthritis',\n",
    "'CCCfy204': 'Non Traumatic Joint Disorders',\n",
    "'CCCfy205': 'Spondylosis; Intervertebral Disc Disorders; Other Back Problems',\n",
    "'CCCfy211': 'Other Connective Tissue Disorders',\n",
    "'CCCfy232': 'Sprains and strains',\n",
    "'CCCfy244': 'Externally Caused Injuries and Conditions',\n",
    "'CCCfy259': 'Unclassified CCC',\n",
    "'CCCfy651': 'Mood Disorder' }\n",
    "\n",
    "\n"
   ]
  },
  {
   "cell_type": "code",
   "execution_count": null,
   "metadata": {},
   "outputs": [],
   "source": []
  },
  {
   "cell_type": "code",
   "execution_count": 19,
   "metadata": {},
   "outputs": [
    {
     "data": {
      "text/plain": [
       "{'danin': 'olleh', 'ninad': 'hello'}"
      ]
     },
     "execution_count": 19,
     "metadata": {},
     "output_type": "execute_result"
    }
   ],
   "source": [
    "d = {\n",
    "    'ninad': 'hello', \n",
    "    'danin': 'olleh' }\n",
    "d"
   ]
  },
  {
   "cell_type": "code",
   "execution_count": null,
   "metadata": {},
   "outputs": [],
   "source": []
  },
  {
   "cell_type": "code",
   "execution_count": null,
   "metadata": {},
   "outputs": [],
   "source": []
  },
  {
   "cell_type": "code",
   "execution_count": 10,
   "metadata": {},
   "outputs": [],
   "source": [
    "# Extracting relevant column numbers from the big list\n",
    "new_col_nums_fy = []  # First year data\n",
    "new_col_nums_sy = []  # Second year data\n",
    "fy_first = 332\n",
    "fy_last = 601\n",
    "sy_last = 872\n",
    "\n",
    "for dcode in new_col_list:\n",
    "    fycode = 'CCCfy' + dcode\n",
    "    sycode = 'CCCsy' + dcode    \n",
    "    for i in range(fy_first, sy_last+1):\n",
    "        if col_list[i] == fycode:\n",
    "            new_col_nums_fy.append(i)\n",
    "        elif col_list[i] == sycode:\n",
    "            new_col_nums_sy.append(i)\n",
    "\n",
    "# NOT NEEDED AT ALL!!!\n",
    "# CAN filter through the data-frame using just column ids\n",
    "\n",
    "fy_codes = []\n",
    "sy_codes = []\n",
    "for dcode in new_col_list: \n",
    "    fy = 'CCCfy' + dcode\n",
    "    fy_codes.append(fy)\n",
    "    sy = 'CCCsy' + dcode\n",
    "    sy_codes.append(sy)\n",
    "\n",
    "merge_codes = fy_codes + sy_codes"
   ]
  },
  {
   "cell_type": "code",
   "execution_count": 11,
   "metadata": {},
   "outputs": [
    {
     "data": {
      "text/plain": [
       "['CCCfy12',\n",
       " 'CCCfy30',\n",
       " 'CCCfy47',\n",
       " 'CCCfy48',\n",
       " 'CCCfy49',\n",
       " 'CCCfy50',\n",
       " 'CCCfy51',\n",
       " 'CCCfy52',\n",
       " 'CCCfy53',\n",
       " 'CCCfy86',\n",
       " 'CCCfy91',\n",
       " 'CCCfy95',\n",
       " 'CCCfy96',\n",
       " 'CCCfy98',\n",
       " 'CCCfy100',\n",
       " 'CCCfy101',\n",
       " 'CCCfy103',\n",
       " 'CCCfy104',\n",
       " 'CCCfy105',\n",
       " 'CCCfy106',\n",
       " 'CCCfy110',\n",
       " 'CCCfy111',\n",
       " 'CCCfy126',\n",
       " 'CCCfy127',\n",
       " 'CCCfy128',\n",
       " 'CCCfy133',\n",
       " 'CCCfy134',\n",
       " 'CCCfy200',\n",
       " 'CCCfy202',\n",
       " 'CCCfy203',\n",
       " 'CCCfy204',\n",
       " 'CCCfy205',\n",
       " 'CCCfy211',\n",
       " 'CCCfy232',\n",
       " 'CCCfy244',\n",
       " 'CCCfy259',\n",
       " 'CCCfy651']"
      ]
     },
     "execution_count": 11,
     "metadata": {},
     "output_type": "execute_result"
    }
   ],
   "source": [
    "fy_codes"
   ]
  },
  {
   "cell_type": "code",
   "execution_count": null,
   "metadata": {},
   "outputs": [],
   "source": []
  },
  {
   "cell_type": "code",
   "execution_count": 3,
   "metadata": {},
   "outputs": [],
   "source": [
    "redfile = './out/feats_obj_red.pk'\n",
    "fulfile = './out/feats_obj_full.pk'\n",
    "\n",
    "with open(redfile, 'rb') as rfile:\n",
    "    feats1 = pickle.load(rfile)\n"
   ]
  },
  {
   "cell_type": "code",
   "execution_count": 31,
   "metadata": {},
   "outputs": [
    {
     "data": {
      "text/plain": [
       "[((8, 13), 0.08538290231886458),\n",
       " ((4, 13), 0.042347696289292025),\n",
       " ((4, 8), 0.03549475892640119),\n",
       " ((13, 15), 0.018175057811089523),\n",
       " ((14, 15), 0.017327772338626174),\n",
       " ((8, 15), 0.01345408217276084),\n",
       " ((13, 30), 0.008487769896036279),\n",
       " ((13, 29), 0.008248779100019754),\n",
       " ((13, 14), 0.006525147655609409),\n",
       " ((13, 28), 0.00643260431388637),\n",
       " ((13, 22), 0.00634363245453351),\n",
       " ((8, 30), 0.006143195371257404),\n",
       " ((4, 15), 0.006019610333790226),\n",
       " ((30, 31), 0.005247319931382499),\n",
       " ((30, 32), 0.00492350709187106),\n",
       " ((4, 22), 0.004748154327835374),\n",
       " ((8, 29), 0.004642351472754713),\n",
       " ((8, 14), 0.004602757875848185),\n",
       " ((23, 24), 0.004480185141514187),\n",
       " ((31, 32), 0.003925435433081659)]"
      ]
     },
     "execution_count": 31,
     "metadata": {},
     "output_type": "execute_result"
    }
   ],
   "source": [
    "import operator\n",
    "sorted_f = sorted(feats1.L_measure_dict.items(), key=operator.itemgetter(1), reverse=True)\n",
    "sorted_f[:20]"
   ]
  },
  {
   "cell_type": "code",
   "execution_count": 33,
   "metadata": {},
   "outputs": [
    {
     "name": "stdout",
     "output_type": "stream",
     "text": [
      "('Diabetes Mellitus', 'Other Upper Respiratory Infections') : (1, 1)\n",
      "\n",
      "\n",
      "('Diabetes Mellitus', 'Other Upper Respiratory Infections') : (1, 1)\n",
      "\n",
      "\n",
      "('Diabetes Mellitus', 'Other Upper Respiratory Infections') : (1, 1)\n",
      "\n",
      "\n",
      "('Diabetes Mellitus', 'Other Upper Respiratory Infections') : (1, 1)\n",
      "\n",
      "\n",
      "('Diabetes Mellitus', 'Other Upper Respiratory Infections') : (1, 1)\n",
      "\n",
      "\n",
      "('Diabetes Mellitus', 'Other Upper Respiratory Infections') : (1, 1)\n",
      "\n",
      "\n",
      "('Diabetes Mellitus', 'Other Upper Respiratory Infections') : (1, 1)\n",
      "\n",
      "\n",
      "('Diabetes Mellitus', 'Other Upper Respiratory Infections') : (1, 1)\n",
      "\n",
      "\n",
      "('Diabetes Mellitus', 'Other Upper Respiratory Infections') : (1, 1)\n",
      "\n",
      "\n",
      "('Diabetes Mellitus', 'Other Upper Respiratory Infections') : (1, 1)\n",
      "\n",
      "\n",
      "('Diabetes Mellitus', 'Other Upper Respiratory Infections') : (0, 1)\n",
      "\n",
      "\n",
      "('Diabetes Mellitus', 'Other Upper Respiratory Infections') : (1, 1)\n",
      "\n",
      "\n",
      "('Diabetes Mellitus', 'Other Upper Respiratory Infections') : (1, 1)\n",
      "\n",
      "\n",
      "('Diabetes Mellitus', 'Other Upper Respiratory Infections') : (1, 1)\n",
      "\n",
      "\n",
      "('Diabetes Mellitus', 'Other Upper Respiratory Infections') : (1, 1)\n",
      "\n",
      "\n",
      "('Diabetes Mellitus', 'Other Upper Respiratory Infections') : (1, 0)\n",
      "\n",
      "\n",
      "('Diabetes Mellitus', 'Other Upper Respiratory Infections') : (1, 1)\n",
      "\n",
      "\n",
      "('Diabetes Mellitus', 'Other Upper Respiratory Infections') : (1, 1)\n",
      "\n",
      "\n",
      "('Diabetes Mellitus', 'Other Upper Respiratory Infections') : (1, 1)\n",
      "\n",
      "\n",
      "('Diabetes Mellitus', 'Other Upper Respiratory Infections') : (1, 1)\n",
      "\n",
      "\n"
     ]
    },
    {
     "ename": "KeyError",
     "evalue": "(29, 32)",
     "output_type": "error",
     "traceback": [
      "\u001b[0;31m---------------------------------------------------------------------------\u001b[0m",
      "\u001b[0;31mKeyError\u001b[0m                                  Traceback (most recent call last)",
      "\u001b[0;32m<ipython-input-33-b74aa822dbd8>\u001b[0m in \u001b[0;36m<module>\u001b[0;34m()\u001b[0m\n\u001b[1;32m      1\u001b[0m \u001b[0;32mfor\u001b[0m \u001b[0mtup\u001b[0m \u001b[0;32min\u001b[0m \u001b[0msorted_f\u001b[0m\u001b[0;34m:\u001b[0m\u001b[0;34m\u001b[0m\u001b[0m\n\u001b[1;32m      2\u001b[0m     \u001b[0mkey\u001b[0m \u001b[0;34m=\u001b[0m \u001b[0mtup\u001b[0m\u001b[0;34m[\u001b[0m\u001b[0;36m0\u001b[0m\u001b[0;34m]\u001b[0m\u001b[0;34m\u001b[0m\u001b[0m\n\u001b[0;32m----> 3\u001b[0;31m     \u001b[0mval\u001b[0m \u001b[0;34m=\u001b[0m \u001b[0mfeats1\u001b[0m\u001b[0;34m.\u001b[0m\u001b[0mfeats_pairs_dict\u001b[0m\u001b[0;34m[\u001b[0m\u001b[0mkey\u001b[0m\u001b[0;34m]\u001b[0m\u001b[0;34m\u001b[0m\u001b[0m\n\u001b[0m\u001b[1;32m      4\u001b[0m     \u001b[0mdis1\u001b[0m \u001b[0;34m=\u001b[0m \u001b[0mdisdict\u001b[0m\u001b[0;34m[\u001b[0m\u001b[0mfy_codes\u001b[0m\u001b[0;34m[\u001b[0m\u001b[0mk1\u001b[0m\u001b[0;34m]\u001b[0m\u001b[0;34m]\u001b[0m\u001b[0;34m\u001b[0m\u001b[0m\n\u001b[1;32m      5\u001b[0m     \u001b[0mdis2\u001b[0m \u001b[0;34m=\u001b[0m \u001b[0mdisdict\u001b[0m\u001b[0;34m[\u001b[0m\u001b[0mfy_codes\u001b[0m\u001b[0;34m[\u001b[0m\u001b[0mk2\u001b[0m\u001b[0;34m]\u001b[0m\u001b[0;34m]\u001b[0m\u001b[0;34m\u001b[0m\u001b[0m\n",
      "\u001b[0;31mKeyError\u001b[0m: (29, 32)"
     ]
    }
   ],
   "source": [
    "for tup in sorted_f:\n",
    "    key = tup[0]\n",
    "    val = feats1.feats_pairs_dict[key]\n",
    "    dis1 = disdict[fy_codes[k1]]\n",
    "    dis2 = disdict[fy_codes[k2]]\n",
    "    print (dis1, dis2) ,':', val\n",
    "    print '\\n'\n"
   ]
  },
  {
   "cell_type": "code",
   "execution_count": null,
   "metadata": {},
   "outputs": [],
   "source": []
  },
  {
   "cell_type": "code",
   "execution_count": 25,
   "metadata": {},
   "outputs": [
    {
     "name": "stdout",
     "output_type": "stream",
     "text": [
      "('Essential Hypertension', 'Other Upper Respiratory Infections') : (0, 1)\n",
      "\n",
      "\n",
      "('Lipid Metabolism Disorder', 'Acute Myocardial Infarction') : (1, 1)\n",
      "\n",
      "\n",
      "('Lipid Metabolism Disorder', 'Essential Hypertension') : (1, 1)\n",
      "\n",
      "\n",
      "('Non Traumatic Joint Disorders', 'Other Connective Tissue Disorders') : (1, 1)\n",
      "\n",
      "\n",
      "('Diabetes Mellitus', 'Lipid Metabolism Disorder') : (1, 1)\n",
      "\n",
      "\n",
      "('Essential Hypertension', 'Acute Myocardial Infarction') : (1, 1)\n",
      "\n",
      "\n",
      "('Chronic Obstructive Pulmonary Disease and Bronchiectasis', 'Asthma') : (1, 1)\n",
      "\n",
      "\n",
      "('Diabetes Mellitus', 'Coronary Atherosclerosis and Other Heart Disease') : (1, 1)\n",
      "\n",
      "\n",
      "('Essential Hypertension', 'Coronary Atherosclerosis and Other Heart Disease') : (1, 1)\n",
      "\n",
      "\n",
      "('Diabetes Mellitus', 'Essential Hypertension') : (1, 1)\n",
      "\n",
      "\n",
      "('Lipid Metabolism Disorder', 'Non Traumatic Joint Disorders') : (1, 1)\n",
      "\n",
      "\n",
      "('Essential Hypertension', 'Rheumatoid Arthritis and Related Disease') : (1, 1)\n",
      "\n",
      "\n",
      "('Acute Myocardial Infarction', 'Coronary Atherosclerosis and Other Heart Disease') : (1, 1)\n",
      "\n",
      "\n",
      "('Essential Hypertension', 'Osteoarthritis') : (1, 1)\n",
      "\n",
      "\n",
      "('Non Traumatic Joint Disorders', 'Spondylosis; Intervertebral Disc Disorders; Other Back Problems') : (1, 1)\n",
      "\n",
      "\n",
      "('Essential Hypertension', 'Non Traumatic Joint Disorders') : (1, 1)\n",
      "\n",
      "\n",
      "('Lipid Metabolism Disorder', 'Osteoarthritis') : (1, 1)\n",
      "\n",
      "\n",
      "('Spondylosis; Intervertebral Disc Disorders; Other Back Problems', 'Other Connective Tissue Disorders') : (1, 1)\n",
      "\n",
      "\n",
      "('Lipid Metabolism Disorder', 'Coronary Atherosclerosis and Other Heart Disease') : (1, 1)\n",
      "\n",
      "\n",
      "('Diabetes Mellitus', 'Other Upper Respiratory Infections') : (1, 0)\n",
      "\n",
      "\n"
     ]
    }
   ],
   "source": [
    "for key,val in feats1.feats_pairs_dict.items():\n",
    "    k1, k2 = key[0], key[1]\n",
    "    dis1 = disdict[fy_codes[k1]]\n",
    "    dis2 = disdict[fy_codes[k2]]\n",
    "    print (dis1, dis2) ,':', val\n",
    "    print '\\n'\n"
   ]
  },
  {
   "cell_type": "code",
   "execution_count": 26,
   "metadata": {},
   "outputs": [],
   "source": [
    "with open(fulfile, 'rb') as r2file:\n",
    "    feats2 = pickle.load(r2file)"
   ]
  },
  {
   "cell_type": "code",
   "execution_count": null,
   "metadata": {},
   "outputs": [],
   "source": []
  },
  {
   "cell_type": "code",
   "execution_count": 22,
   "metadata": {},
   "outputs": [
    {
     "data": {
      "text/plain": [
       "{(47, 52): (1, 1),\n",
       " (48, 49): (1, 1),\n",
       " (48, 52): (1, 1),\n",
       " (48, 74): (1, 1),\n",
       " (48, 86): (1, 1),\n",
       " (48, 88): (1, 1),\n",
       " (48, 89): (1, 1),\n",
       " (48, 114): (1, 0),\n",
       " (48, 149): (1, 1),\n",
       " (48, 184): (0, 1),\n",
       " (52, 86): (1, 1),\n",
       " (52, 88): (1, 1),\n",
       " (52, 89): (1, 1),\n",
       " (52, 97): (1, 1),\n",
       " (52, 114): (1, 0),\n",
       " (52, 184): (0, 1),\n",
       " (52, 190): (1, 1),\n",
       " (52, 191): (1, 1),\n",
       " (52, 192): (1, 1),\n",
       " (52, 251): (0, 1),\n",
       " (74, 86): (1, 1),\n",
       " (76, 86): (1, 1),\n",
       " (80, 86): (1, 0),\n",
       " (80, 114): (1, 1),\n",
       " (86, 88): (1, 1),\n",
       " (86, 89): (1, 1),\n",
       " (86, 92): (1, 1),\n",
       " (86, 94): (1, 1),\n",
       " (86, 96): (1, 1),\n",
       " (86, 97): (1, 1),\n",
       " (86, 114): (0, 1),\n",
       " (86, 126): (1, 1),\n",
       " (86, 149): (1, 1),\n",
       " (86, 184): (0, 1),\n",
       " (86, 190): (1, 1),\n",
       " (86, 191): (1, 1),\n",
       " (86, 192): (1, 1),\n",
       " (86, 247): (1, 1),\n",
       " (86, 251): (0, 1),\n",
       " (88, 89): (1, 1),\n",
       " (89, 94): (1, 1),\n",
       " (89, 96): (1, 1),\n",
       " (89, 97): (1, 1),\n",
       " (110, 115): (1, 1),\n",
       " (115, 116): (1, 1),\n",
       " (116, 122): (1, 1),\n",
       " (174, 184): (1, 1),\n",
       " (190, 198): (1, 1),\n",
       " (191, 193): (1, 1),\n",
       " (191, 199): (1, 1),\n",
       " (192, 193): (1, 1),\n",
       " (192, 199): (1, 1),\n",
       " (193, 199): (1, 1),\n",
       " (193, 256): (1, 1),\n",
       " (247, 250): (1, 1),\n",
       " (247, 256): (1, 1),\n",
       " (250, 256): (1, 1),\n",
       " (251, 254): (1, 1),\n",
       " (251, 256): (1, 1),\n",
       " (256, 258): (1, 1)}"
      ]
     },
     "execution_count": 22,
     "metadata": {},
     "output_type": "execute_result"
    }
   ],
   "source": [
    "feats2.feats_pairs_dict"
   ]
  },
  {
   "cell_type": "code",
   "execution_count": null,
   "metadata": {},
   "outputs": [],
   "source": []
  }
 ],
 "metadata": {
  "kernelspec": {
   "display_name": "Python 2",
   "language": "python",
   "name": "python2"
  },
  "language_info": {
   "codemirror_mode": {
    "name": "ipython",
    "version": 2
   },
   "file_extension": ".py",
   "mimetype": "text/x-python",
   "name": "python",
   "nbconvert_exporter": "python",
   "pygments_lexer": "ipython2",
   "version": "2.7.15"
  }
 },
 "nbformat": 4,
 "nbformat_minor": 2
}
